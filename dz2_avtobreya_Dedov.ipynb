{
  "nbformat": 4,
  "nbformat_minor": 0,
  "metadata": {
    "colab": {
      "provenance": [],
      "gpuType": "T4"
    },
    "kernelspec": {
      "name": "python3",
      "display_name": "Python 3"
    },
    "language_info": {
      "name": "python"
    },
    "accelerator": "GPU"
  },
  "cells": [
    {
      "cell_type": "code",
      "execution_count": 8,
      "metadata": {
        "colab": {
          "base_uri": "https://localhost:8080/"
        },
        "id": "is6N-E2PKljp",
        "outputId": "54da31f6-7eed-4126-f257-d11f9b10d479"
      },
      "outputs": [
        {
          "output_type": "stream",
          "name": "stdout",
          "text": [
            "Requirement already satisfied: yt-dlp in /usr/local/lib/python3.10/dist-packages (2023.11.16)\n",
            "Requirement already satisfied: mutagen in /usr/local/lib/python3.10/dist-packages (from yt-dlp) (1.47.0)\n",
            "Requirement already satisfied: pycryptodomex in /usr/local/lib/python3.10/dist-packages (from yt-dlp) (3.19.0)\n",
            "Requirement already satisfied: websockets in /usr/local/lib/python3.10/dist-packages (from yt-dlp) (12.0)\n",
            "Requirement already satisfied: certifi in /usr/local/lib/python3.10/dist-packages (from yt-dlp) (2023.11.17)\n",
            "Requirement already satisfied: requests<3,>=2.31.0 in /usr/local/lib/python3.10/dist-packages (from yt-dlp) (2.31.0)\n",
            "Requirement already satisfied: urllib3<3,>=1.26.17 in /usr/local/lib/python3.10/dist-packages (from yt-dlp) (2.0.7)\n",
            "Requirement already satisfied: brotli in /usr/local/lib/python3.10/dist-packages (from yt-dlp) (1.1.0)\n",
            "Requirement already satisfied: charset-normalizer<4,>=2 in /usr/local/lib/python3.10/dist-packages (from requests<3,>=2.31.0->yt-dlp) (3.3.2)\n",
            "Requirement already satisfied: idna<4,>=2.5 in /usr/local/lib/python3.10/dist-packages (from requests<3,>=2.31.0->yt-dlp) (3.6)\n"
          ]
        }
      ],
      "source": [
        "!pip install yt-dlp"
      ]
    },
    {
      "cell_type": "code",
      "source": [
        "!pip install jiwer"
      ],
      "metadata": {
        "colab": {
          "base_uri": "https://localhost:8080/"
        },
        "id": "SUKDz2N7qw4P",
        "outputId": "2fbf4e23-1d97-45cf-c762-eb3f0e731cc2"
      },
      "execution_count": 86,
      "outputs": [
        {
          "output_type": "stream",
          "name": "stdout",
          "text": [
            "Collecting jiwer\n",
            "  Downloading jiwer-3.0.3-py3-none-any.whl (21 kB)\n",
            "Requirement already satisfied: click<9.0.0,>=8.1.3 in /usr/local/lib/python3.10/dist-packages (from jiwer) (8.1.7)\n",
            "Collecting rapidfuzz<4,>=3 (from jiwer)\n",
            "  Downloading rapidfuzz-3.5.2-cp310-cp310-manylinux_2_17_x86_64.manylinux2014_x86_64.whl (3.3 MB)\n",
            "\u001b[2K     \u001b[90m━━━━━━━━━━━━━━━━━━━━━━━━━━━━━━━━━━━━━━━━\u001b[0m \u001b[32m3.3/3.3 MB\u001b[0m \u001b[31m9.7 MB/s\u001b[0m eta \u001b[36m0:00:00\u001b[0m\n",
            "\u001b[?25hInstalling collected packages: rapidfuzz, jiwer\n",
            "Successfully installed jiwer-3.0.3 rapidfuzz-3.5.2\n"
          ]
        }
      ]
    },
    {
      "cell_type": "code",
      "source": [
        "!pip install git+https://github.com/openai/whisper.git soundfile"
      ],
      "metadata": {
        "colab": {
          "base_uri": "https://localhost:8080/"
        },
        "id": "u1U_me65MqJz",
        "outputId": "cff8bc4e-3a57-41f0-8942-13d8329b3036"
      },
      "execution_count": 9,
      "outputs": [
        {
          "output_type": "stream",
          "name": "stdout",
          "text": [
            "Collecting git+https://github.com/openai/whisper.git\n",
            "  Cloning https://github.com/openai/whisper.git to /tmp/pip-req-build-z1ap4rt8\n",
            "  Running command git clone --filter=blob:none --quiet https://github.com/openai/whisper.git /tmp/pip-req-build-z1ap4rt8\n",
            "  Resolved https://github.com/openai/whisper.git to commit ba3f3cd54b0e5b8ce1ab3de13e32122d0d5f98ab\n",
            "  Installing build dependencies ... \u001b[?25l\u001b[?25hdone\n",
            "  Getting requirements to build wheel ... \u001b[?25l\u001b[?25hdone\n",
            "  Preparing metadata (pyproject.toml) ... \u001b[?25l\u001b[?25hdone\n",
            "Requirement already satisfied: soundfile in /usr/local/lib/python3.10/dist-packages (0.12.1)\n",
            "Requirement already satisfied: numba in /usr/local/lib/python3.10/dist-packages (from openai-whisper==20231117) (0.58.1)\n",
            "Requirement already satisfied: numpy in /usr/local/lib/python3.10/dist-packages (from openai-whisper==20231117) (1.23.5)\n",
            "Requirement already satisfied: torch in /usr/local/lib/python3.10/dist-packages (from openai-whisper==20231117) (2.1.0+cu121)\n",
            "Requirement already satisfied: tqdm in /usr/local/lib/python3.10/dist-packages (from openai-whisper==20231117) (4.66.1)\n",
            "Requirement already satisfied: more-itertools in /usr/local/lib/python3.10/dist-packages (from openai-whisper==20231117) (10.1.0)\n",
            "Requirement already satisfied: tiktoken in /usr/local/lib/python3.10/dist-packages (from openai-whisper==20231117) (0.5.2)\n",
            "Requirement already satisfied: triton<3,>=2.0.0 in /usr/local/lib/python3.10/dist-packages (from openai-whisper==20231117) (2.1.0)\n",
            "Requirement already satisfied: cffi>=1.0 in /usr/local/lib/python3.10/dist-packages (from soundfile) (1.16.0)\n",
            "Requirement already satisfied: pycparser in /usr/local/lib/python3.10/dist-packages (from cffi>=1.0->soundfile) (2.21)\n",
            "Requirement already satisfied: filelock in /usr/local/lib/python3.10/dist-packages (from triton<3,>=2.0.0->openai-whisper==20231117) (3.13.1)\n",
            "Requirement already satisfied: llvmlite<0.42,>=0.41.0dev0 in /usr/local/lib/python3.10/dist-packages (from numba->openai-whisper==20231117) (0.41.1)\n",
            "Requirement already satisfied: regex>=2022.1.18 in /usr/local/lib/python3.10/dist-packages (from tiktoken->openai-whisper==20231117) (2023.6.3)\n",
            "Requirement already satisfied: requests>=2.26.0 in /usr/local/lib/python3.10/dist-packages (from tiktoken->openai-whisper==20231117) (2.31.0)\n",
            "Requirement already satisfied: typing-extensions in /usr/local/lib/python3.10/dist-packages (from torch->openai-whisper==20231117) (4.5.0)\n",
            "Requirement already satisfied: sympy in /usr/local/lib/python3.10/dist-packages (from torch->openai-whisper==20231117) (1.12)\n",
            "Requirement already satisfied: networkx in /usr/local/lib/python3.10/dist-packages (from torch->openai-whisper==20231117) (3.2.1)\n",
            "Requirement already satisfied: jinja2 in /usr/local/lib/python3.10/dist-packages (from torch->openai-whisper==20231117) (3.1.2)\n",
            "Requirement already satisfied: fsspec in /usr/local/lib/python3.10/dist-packages (from torch->openai-whisper==20231117) (2023.6.0)\n",
            "Requirement already satisfied: charset-normalizer<4,>=2 in /usr/local/lib/python3.10/dist-packages (from requests>=2.26.0->tiktoken->openai-whisper==20231117) (3.3.2)\n",
            "Requirement already satisfied: idna<4,>=2.5 in /usr/local/lib/python3.10/dist-packages (from requests>=2.26.0->tiktoken->openai-whisper==20231117) (3.6)\n",
            "Requirement already satisfied: urllib3<3,>=1.21.1 in /usr/local/lib/python3.10/dist-packages (from requests>=2.26.0->tiktoken->openai-whisper==20231117) (2.0.7)\n",
            "Requirement already satisfied: certifi>=2017.4.17 in /usr/local/lib/python3.10/dist-packages (from requests>=2.26.0->tiktoken->openai-whisper==20231117) (2023.11.17)\n",
            "Requirement already satisfied: MarkupSafe>=2.0 in /usr/local/lib/python3.10/dist-packages (from jinja2->torch->openai-whisper==20231117) (2.1.3)\n",
            "Requirement already satisfied: mpmath>=0.19 in /usr/local/lib/python3.10/dist-packages (from sympy->torch->openai-whisper==20231117) (1.3.0)\n"
          ]
        }
      ]
    },
    {
      "cell_type": "code",
      "source": [
        "!pip install SpeechRecognition"
      ],
      "metadata": {
        "colab": {
          "base_uri": "https://localhost:8080/"
        },
        "id": "4DUu_lRnL-qI",
        "outputId": "9c4b166f-f028-4df4-b4fd-e0fd5cc47858"
      },
      "execution_count": 10,
      "outputs": [
        {
          "output_type": "stream",
          "name": "stdout",
          "text": [
            "Requirement already satisfied: SpeechRecognition in /usr/local/lib/python3.10/dist-packages (3.10.1)\n",
            "Requirement already satisfied: requests>=2.26.0 in /usr/local/lib/python3.10/dist-packages (from SpeechRecognition) (2.31.0)\n",
            "Requirement already satisfied: typing-extensions in /usr/local/lib/python3.10/dist-packages (from SpeechRecognition) (4.5.0)\n",
            "Requirement already satisfied: charset-normalizer<4,>=2 in /usr/local/lib/python3.10/dist-packages (from requests>=2.26.0->SpeechRecognition) (3.3.2)\n",
            "Requirement already satisfied: idna<4,>=2.5 in /usr/local/lib/python3.10/dist-packages (from requests>=2.26.0->SpeechRecognition) (3.6)\n",
            "Requirement already satisfied: urllib3<3,>=1.21.1 in /usr/local/lib/python3.10/dist-packages (from requests>=2.26.0->SpeechRecognition) (2.0.7)\n",
            "Requirement already satisfied: certifi>=2017.4.17 in /usr/local/lib/python3.10/dist-packages (from requests>=2.26.0->SpeechRecognition) (2023.11.17)\n"
          ]
        }
      ]
    },
    {
      "cell_type": "markdown",
      "source": [
        "Используем yt-dlp чтобы скачать видео"
      ],
      "metadata": {
        "id": "hR7Be8j_KnSL"
      }
    },
    {
      "cell_type": "code",
      "source": [
        "!yt-dlp -x --audio-format wav --write-auto-subs https://www.youtube.com/watch?v=8FggxAtyxN8"
      ],
      "metadata": {
        "id": "FZsQQD3qKvLn",
        "colab": {
          "base_uri": "https://localhost:8080/"
        },
        "outputId": "52c7c43d-f490-40b4-86c5-0e466ceffada"
      },
      "execution_count": 11,
      "outputs": [
        {
          "output_type": "stream",
          "name": "stdout",
          "text": [
            "[youtube] Extracting URL: https://www.youtube.com/watch?v=8FggxAtyxN8\n",
            "[youtube] 8FggxAtyxN8: Downloading webpage\n",
            "[youtube] 8FggxAtyxN8: Downloading ios player API JSON\n",
            "[youtube] 8FggxAtyxN8: Downloading android player API JSON\n",
            "[youtube] 8FggxAtyxN8: Downloading m3u8 information\n",
            "[info] 8FggxAtyxN8: Downloading subtitles: en\n",
            "[info] 8FggxAtyxN8: Downloading 1 format(s): 251\n",
            "Deleting existing file Noam Chomsky's Three True Intellectuals [8FggxAtyxN8].en.vtt\n",
            "[info] Writing video subtitles to: Noam Chomsky's Three True Intellectuals [8FggxAtyxN8].en.vtt\n",
            "[download] Destination: Noam Chomsky's Three True Intellectuals [8FggxAtyxN8].en.vtt\n",
            "\u001b[K[download] 100% of   13.08KiB in \u001b[1;37m00:00:00\u001b[0m at \u001b[0;32m84.89KiB/s\u001b[0m\n",
            "[download] Noam Chomsky's Three True Intellectuals [8FggxAtyxN8].wav has already been downloaded\n",
            "[ExtractAudio] Destination: Noam Chomsky's Three True Intellectuals [8FggxAtyxN8].wav\n",
            "Deleting original file Noam Chomsky's Three True Intellectuals [8FggxAtyxN8].orig.wav (pass -k to keep)\n"
          ]
        }
      ]
    },
    {
      "cell_type": "markdown",
      "source": [
        "распознаем с whisper и с google speech recogntion (так же, как на семинаре)"
      ],
      "metadata": {
        "id": "VTxQdGFRMHx0"
      }
    },
    {
      "cell_type": "code",
      "source": [
        "import speech_recognition as sr"
      ],
      "metadata": {
        "id": "DR3lvMQMLrpq"
      },
      "execution_count": 12,
      "outputs": []
    },
    {
      "cell_type": "code",
      "source": [
        "import whisper"
      ],
      "metadata": {
        "id": "d5UVg4tvMv06"
      },
      "execution_count": 13,
      "outputs": []
    },
    {
      "cell_type": "code",
      "source": [
        "r = sr.Recognizer()\n",
        "with sr.AudioFile(\"/content/Noam Chomsky's Three True Intellectuals [8FggxAtyxN8].wav\") as source:\n",
        "    audio = r.record(source)"
      ],
      "metadata": {
        "id": "2FCyUZ2lLNMC"
      },
      "execution_count": 15,
      "outputs": []
    },
    {
      "cell_type": "code",
      "source": [
        "whisper_variant = r.recognize_whisper(audio)"
      ],
      "metadata": {
        "id": "dv8_OXj0Mign",
        "colab": {
          "base_uri": "https://localhost:8080/"
        },
        "outputId": "434d68d3-d56c-4283-8d0b-143913c0a008"
      },
      "execution_count": 16,
      "outputs": [
        {
          "output_type": "stream",
          "name": "stderr",
          "text": [
            "100%|███████████████████████████████████████| 139M/139M [00:02<00:00, 69.1MiB/s]\n"
          ]
        }
      ]
    },
    {
      "cell_type": "code",
      "source": [
        "whisper_variant"
      ],
      "metadata": {
        "id": "baP088VzNbbl",
        "colab": {
          "base_uri": "https://localhost:8080/",
          "height": 209
        },
        "outputId": "33e20e5b-06cf-4926-f9a5-fe412e649f92"
      },
      "execution_count": 17,
      "outputs": [
        {
          "output_type": "execute_result",
          "data": {
            "text/plain": [
              "\" hang with the intellectuals for a second. Make it more concrete. Can you give some examples of just a few, or as many as you want, of people who you think do fulfill the responsibility of intellectuals? Let's say in the United States or maybe, and what makes you say that about the particular person? What makes me say it is that they do... The specific people. Well, let's take Howard Jen, died recently, or Ekbal Ahmed, who died a couple years earlier, Edward Said, who died shortly before Ekbal. Well, these are, happened to be old personal friends, but they were also, Edward and Ekbal were very close friends. Ekbal and Howard were close friends and interacted constantly. I say they were kind of a cadre, if you like, of prominent intellectuals, scholars, activists, their lives and their work were intimately intertwined. And they dedicated a large part of their lives and work to pursuing elementary moral truisms. I could run through them, but that's what they did. So, okay, that's responsible intellectuals. Okay, maybe a way to see it is some intellectuals, not journalists, because when you get to journalism in a minute, who fail miserably, who have the prestige, who have the access, who have all the characteristics that you described as associated with being intellectual, but who don't meet their responsibility, violate it routinely. That's, I mean... I know there are a lot. You're going to start from A, we'll go on for the rest of the day. It's virtually...\""
            ],
            "application/vnd.google.colaboratory.intrinsic+json": {
              "type": "string"
            }
          },
          "metadata": {},
          "execution_count": 17
        }
      ]
    },
    {
      "cell_type": "code",
      "source": [
        "google_variant=r.recognize_google(audio)"
      ],
      "metadata": {
        "id": "aubIahMDM8d7"
      },
      "execution_count": 18,
      "outputs": []
    },
    {
      "cell_type": "code",
      "source": [
        "google_variant"
      ],
      "metadata": {
        "colab": {
          "base_uri": "https://localhost:8080/",
          "height": 70
        },
        "id": "-ElID4vgNkRa",
        "outputId": "8893f92a-8d52-45bc-ed95-7773de5ba5d8"
      },
      "execution_count": 19,
      "outputs": [
        {
          "output_type": "execute_result",
          "data": {
            "text/plain": [
              "\"hang with the the intellectuals for a second to make it more concrete can you give some examples of just a few or as many as you want of people who you think do fulfill the responsibility of intellectuals let's say in the United States or maybe and and what makes you say that about the particular person what makes me say it is that they do that before\""
            ],
            "application/vnd.google.colaboratory.intrinsic+json": {
              "type": "string"
            }
          },
          "metadata": {},
          "execution_count": 19
        }
      ]
    },
    {
      "cell_type": "markdown",
      "source": [
        "почему-то распознавание с помощью гугла меньше половины распознает..."
      ],
      "metadata": {
        "id": "-mrX1Y_JOdhT"
      }
    },
    {
      "cell_type": "markdown",
      "source": [
        "И еще hugging face transformers"
      ],
      "metadata": {
        "id": "zV4270YVi1Pd"
      }
    },
    {
      "cell_type": "code",
      "source": [
        "from transformers import pipeline"
      ],
      "metadata": {
        "id": "3oAEYfidi4MQ"
      },
      "execution_count": 69,
      "outputs": []
    },
    {
      "cell_type": "code",
      "source": [
        "transcriber = pipeline(\"automatic-speech-recognition\", \"facebook/wav2vec2-base-960h\")\n",
        "huggin_variant=transcriber(\"/content/Noam Chomsky's Three True Intellectuals [8FggxAtyxN8].wav\")['text']\n",
        "print(huggin_variant)"
      ],
      "metadata": {
        "colab": {
          "base_uri": "https://localhost:8080/"
        },
        "id": "P1d9qPqojIsB",
        "outputId": "a8155540-5494-4e7b-b699-de07e131468d"
      },
      "execution_count": 72,
      "outputs": [
        {
          "output_type": "stream",
          "name": "stderr",
          "text": [
            "Some weights of the model checkpoint at facebook/wav2vec2-base-960h were not used when initializing Wav2Vec2ForCTC: ['wav2vec2.encoder.pos_conv_embed.conv.weight_g', 'wav2vec2.encoder.pos_conv_embed.conv.weight_v']\n",
            "- This IS expected if you are initializing Wav2Vec2ForCTC from the checkpoint of a model trained on another task or with another architecture (e.g. initializing a BertForSequenceClassification model from a BertForPreTraining model).\n",
            "- This IS NOT expected if you are initializing Wav2Vec2ForCTC from the checkpoint of a model that you expect to be exactly identical (initializing a BertForSequenceClassification model from a BertForSequenceClassification model).\n",
            "Some weights of Wav2Vec2ForCTC were not initialized from the model checkpoint at facebook/wav2vec2-base-960h and are newly initialized: ['wav2vec2.encoder.pos_conv_embed.conv.parametrizations.weight.original1', 'wav2vec2.masked_spec_embed', 'wav2vec2.encoder.pos_conv_embed.conv.parametrizations.weight.original0']\n",
            "You should probably TRAIN this model on a down-stream task to be able to use it for predictions and inference.\n"
          ]
        },
        {
          "output_type": "stream",
          "name": "stdout",
          "text": [
            "HANG WITH THE A THE INTELLECTUAL FOR A SECOND AND TO MAKE IT MORE CONCRETE CAN YOU GIVE SOME EXAMPLES OF JUST A FEW OR AS MANYAS YOU WANT OF PEOPLE WHO YOU THINK  DO FULFILL THE RESPONSIBILITY OF INTELLECTUALS ONE SAY IN THE UNITED STATES OR MAYBE AND AND AND WHAT MAKES YOU SAY THAT ABOUT THE PARTICULAR PERSON WHAT MAKES ME SAY IT IS THAT THEY DO  STEEE PEOPLE E WELL LET'S TAKE OUR GAND WHOR BUT DIED RECENTLY OR ECPELACMA WHOI COUBLIERS EARLIE OR EDWARD SAEDE WHO  SHORTLY BEFORE E BE A WOT THESE ARE HAVE TO BE OLD PERSONAL FRIENDS BUT THA THEY WERE ALSO A EDWARD AND ECPEL WERE VERY CLOSE FRIENDS A ECPEL AND HOWARD WERE  CLOSE FRIENDS AND A INTERACTED CONSTABLY ASO THEY ARE KIND OF A CADRA IF YOU LIKE OF THE PROMINENT INTELLECTUALS AND SCHOLARS ACTIIS TO THEIR LIVES AND THEIR WORK WERE INTIMATELY INTERTWINED AND THEY DEDICATED TO A LARGE PART OF THEIR LIVES AND WORK TO A PURSUING ELEMENTARY MORAL TRUISM  CUL RUN THROUGH THEM BUT TO THAT'S WHAT THEY DID SO OGA THAT'S RESPONSIBLE INTELLECTUAL YOGAN MAYBE AWAY TO TO FEE IT IS SOME INTELLECTUAL AN NOT JOURNALIST AS WE GAT THE JOURNALISM IN A MENENT WHO FAIL MISERABLY AND WHO HAVE THE PROSTESE YOU HAVE THE ACCESS WHO HAVE ALL THE CHARACTERISTICS THAT YOU DESCRIBANS ASSOCIATED WITH BEING INTELLECTUAL BUT WHO AN DON'T MEET THE RESPONSIBILITY VIOLATED ROUTINELY TATS I MEAN I KNOW THEY'RE A LIVE YOU MUS START FROM A  WEYLL GO ON FOR THE REST OF THE DAY THATIT'S VIRTUALLY\n"
          ]
        }
      ]
    },
    {
      "cell_type": "markdown",
      "source": [
        "выкачаем субтитры"
      ],
      "metadata": {
        "id": "LTiZ09ZqZrGL"
      }
    },
    {
      "cell_type": "code",
      "source": [
        "!pip install webvtt-py"
      ],
      "metadata": {
        "colab": {
          "base_uri": "https://localhost:8080/"
        },
        "id": "lA1rpnnaZqlP",
        "outputId": "c89ae8d4-85ba-45d4-e37f-59fcba9d37e9"
      },
      "execution_count": 21,
      "outputs": [
        {
          "output_type": "stream",
          "name": "stdout",
          "text": [
            "Collecting webvtt-py\n",
            "  Downloading webvtt_py-0.4.6-py3-none-any.whl (16 kB)\n",
            "Collecting docopt (from webvtt-py)\n",
            "  Downloading docopt-0.6.2.tar.gz (25 kB)\n",
            "  Preparing metadata (setup.py) ... \u001b[?25l\u001b[?25hdone\n",
            "Building wheels for collected packages: docopt\n",
            "  Building wheel for docopt (setup.py) ... \u001b[?25l\u001b[?25hdone\n",
            "  Created wheel for docopt: filename=docopt-0.6.2-py2.py3-none-any.whl size=13706 sha256=c714db38f3735be33618647bc64c76cc0000bb6e41f89c907907383f48ccf1d6\n",
            "  Stored in directory: /root/.cache/pip/wheels/fc/ab/d4/5da2067ac95b36618c629a5f93f809425700506f72c9732fac\n",
            "Successfully built docopt\n",
            "Installing collected packages: docopt, webvtt-py\n",
            "Successfully installed docopt-0.6.2 webvtt-py-0.4.6\n"
          ]
        }
      ]
    },
    {
      "cell_type": "code",
      "source": [
        "import webvtt"
      ],
      "metadata": {
        "id": "uwaobcNyZxrW"
      },
      "execution_count": 22,
      "outputs": []
    },
    {
      "cell_type": "code",
      "source": [
        "subs = \"/content/Noam Chomsky's Three True Intellectuals [8FggxAtyxN8].en.vtt\""
      ],
      "metadata": {
        "id": "mlnA7QmqNyZ1"
      },
      "execution_count": 24,
      "outputs": []
    },
    {
      "cell_type": "code",
      "source": [
        "for smth in webvtt.read(subs):\n",
        "  print(smth.text.split('\\n'))"
      ],
      "metadata": {
        "colab": {
          "base_uri": "https://localhost:8080/"
        },
        "id": "5R7IooHqZcrm",
        "outputId": "7907bb00-30e4-4776-f65d-d5891da4baf1"
      },
      "execution_count": 29,
      "outputs": [
        {
          "output_type": "stream",
          "name": "stdout",
          "text": [
            "[' ', 'hang with the the intellectuals for a']\n",
            "['hang with the the intellectuals for a', ' ']\n",
            "['hang with the the intellectuals for a', 'second to make it more concrete can you']\n",
            "['second to make it more concrete can you', ' ']\n",
            "['second to make it more concrete can you', 'give some examples of just a few or as']\n",
            "['give some examples of just a few or as', ' ']\n",
            "['give some examples of just a few or as', 'many as you want']\n",
            "['many as you want', ' ']\n",
            "['many as you want', 'of people who you think do fulfill the']\n",
            "['of people who you think do fulfill the', ' ']\n",
            "['of people who you think do fulfill the', \"responsibilities of intellectuals let's\"]\n",
            "[\"responsibilities of intellectuals let's\", ' ']\n",
            "[\"responsibilities of intellectuals let's\", 'say in the United States or maybe and']\n",
            "['say in the United States or maybe and', ' ']\n",
            "['say in the United States or maybe and', 'and what makes you say that about the']\n",
            "['and what makes you say that about the', ' ']\n",
            "['and what makes you say that about the', 'particular person what makes me say it']\n",
            "['particular person what makes me say it', ' ']\n",
            "['particular person what makes me say it', 'is that they do the specific people oh']\n",
            "['is that they do the specific people oh', ' ']\n",
            "['is that they do the specific people oh', \"well let's take our Jen died recently or\"]\n",
            "[\"well let's take our Jen died recently or\", ' ']\n",
            "[\"well let's take our Jen died recently or\", 'Iqbal Ahmed who died a couple years']\n",
            "['Iqbal Ahmed who died a couple years', ' ']\n",
            "['Iqbal Ahmed who died a couple years', 'earlier or Edward Saeed who died shortly']\n",
            "['earlier or Edward Saeed who died shortly', ' ']\n",
            "['earlier or Edward Saeed who died shortly', 'before ECMO well these are having to be']\n",
            "['before ECMO well these are having to be', ' ']\n",
            "['before ECMO well these are having to be', 'old personal friends but they were also']\n",
            "['old personal friends but they were also', ' ']\n",
            "['old personal friends but they were also', 'that Edward and Iqbal were very close']\n",
            "['that Edward and Iqbal were very close', ' ']\n",
            "['that Edward and Iqbal were very close', 'friends ech well and Howard were close']\n",
            "['friends ech well and Howard were close', ' ']\n",
            "['friends ech well and Howard were close', 'friends and interacted constantly so']\n",
            "['friends and interacted constantly so', ' ']\n",
            "['friends and interacted constantly so', 'there are kind of a cadre if you like of']\n",
            "['there are kind of a cadre if you like of', ' ']\n",
            "['there are kind of a cadre if you like of', 'prominent intellectuals and scholars']\n",
            "['prominent intellectuals and scholars', ' ']\n",
            "['prominent intellectuals and scholars', 'activists their lives and their work']\n",
            "['activists their lives and their work', ' ']\n",
            "['activists their lives and their work', 'were intimately intertwined and they']\n",
            "['were intimately intertwined and they', ' ']\n",
            "['were intimately intertwined and they', 'dedicated a large part of their lives']\n",
            "['dedicated a large part of their lives', ' ']\n",
            "['dedicated a large part of their lives', 'and work to pursuing elementary moral']\n",
            "['and work to pursuing elementary moral', ' ']\n",
            "['and work to pursuing elementary moral', 'truisms I could run through them but']\n",
            "['truisms I could run through them but', ' ']\n",
            "['truisms I could run through them but', \"that's what they did so okay that's\"]\n",
            "[\"that's what they did so okay that's\", ' ']\n",
            "[\"that's what they did so okay that's\", 'responsible intellectuals okay maybe a']\n",
            "['responsible intellectuals okay maybe a', ' ']\n",
            "['responsible intellectuals okay maybe a', 'way to to see it is some intellectuals']\n",
            "['way to to see it is some intellectuals', ' ']\n",
            "['way to to see it is some intellectuals', 'but not journalists because we only get']\n",
            "['but not journalists because we only get', ' ']\n",
            "['but not journalists because we only get', 'to journalism in a minute who fail']\n",
            "['to journalism in a minute who fail', ' ']\n",
            "['to journalism in a minute who fail', 'miserably who have the prestige you have']\n",
            "['miserably who have the prestige you have', ' ']\n",
            "['miserably who have the prestige you have', 'the access who have all the']\n",
            "['the access who have all the', ' ']\n",
            "['the access who have all the', 'characteristics that you describe is']\n",
            "['characteristics that you describe is', ' ']\n",
            "['characteristics that you describe is', 'associated with being an intellectual']\n",
            "['associated with being an intellectual', ' ']\n",
            "['associated with being an intellectual', \"but who don't meet their\"]\n",
            "[\"but who don't meet their\", ' ']\n",
            "[\"but who don't meet their\", 'responsibilities violate it routinely']\n",
            "['responsibilities violate it routinely', ' ']\n",
            "['responsibilities violate it routinely', \"that's I mean I know there are a lot you\"]\n",
            "[\"that's I mean I know there are a lot you\", ' ']\n",
            "[\"that's I mean I know there are a lot you\", 'want to start from a will go on for the']\n",
            "['want to start from a will go on for the', ' ']\n",
            "['want to start from a will go on for the', \"rest of the day but it's virtually\"]\n"
          ]
        }
      ]
    },
    {
      "cell_type": "markdown",
      "source": [
        "субтитры накладываются друг на друга, надо что-то с этим сделать"
      ],
      "metadata": {
        "id": "i6r8qSqxaKTG"
      }
    },
    {
      "cell_type": "code",
      "source": [
        "allsubs=[]\n",
        "for smth in webvtt.read(subs):\n",
        "  subsplit=smth.text.split('\\n')\n",
        "  for elem in subsplit:\n",
        "    if (len(allsubs)==0 or elem!=allsubs[-1]) and elem!=' ':\n",
        "      allsubs.append(elem)\n",
        "allsubs=' '.join(allsubs)\n",
        "print(allsubs)"
      ],
      "metadata": {
        "colab": {
          "base_uri": "https://localhost:8080/"
        },
        "id": "yCG-GLbwa5Hh",
        "outputId": "065becfd-d180-4af8-9138-b631d6687b82"
      },
      "execution_count": 49,
      "outputs": [
        {
          "output_type": "stream",
          "name": "stdout",
          "text": [
            "hang with the the intellectuals for a second to make it more concrete can you give some examples of just a few or as many as you want of people who you think do fulfill the responsibilities of intellectuals let's say in the United States or maybe and and what makes you say that about the particular person what makes me say it is that they do the specific people oh well let's take our Jen died recently or Iqbal Ahmed who died a couple years earlier or Edward Saeed who died shortly before ECMO well these are having to be old personal friends but they were also that Edward and Iqbal were very close friends ech well and Howard were close friends and interacted constantly so there are kind of a cadre if you like of prominent intellectuals and scholars activists their lives and their work were intimately intertwined and they dedicated a large part of their lives and work to pursuing elementary moral truisms I could run through them but that's what they did so okay that's responsible intellectuals okay maybe a way to to see it is some intellectuals but not journalists because we only get to journalism in a minute who fail miserably who have the prestige you have the access who have all the characteristics that you describe is associated with being an intellectual but who don't meet their responsibilities violate it routinely that's I mean I know there are a lot you want to start from a will go on for the rest of the day but it's virtually\n"
          ]
        }
      ]
    },
    {
      "cell_type": "markdown",
      "source": [
        "теперь проверим качество. Для начала напишет эталонные субтитры. Заодно избавимся от всех знаков препинания и больших букв"
      ],
      "metadata": {
        "id": "tDadiMeqj3Lx"
      }
    },
    {
      "cell_type": "code",
      "source": [
        "etalon='hang with the the intellectuals for a second make it more concrete can you give some examples of just a few or as many as you want of people who you think do fulfill the responsibilities of intellektuals lets say in the united states or maybe and and what makes you say that about the particular person what makes me say it its that they do the specific people oh well lets Howard Zinn who died recently or eqbal ahmed who died a couple years earlier or edward said who died shortly before eqbal well these are happened to be old personal friends but they were also edward and eqbal were very close friends eqbal and howard were close friends and interacted constanly so they are kind of a cadre if you like of prominent intellectuals and scholars activists their lives and their work were intimately intertwined and they dedicated a large part of their lives and work to pursuing elementary moral truisms i could run through them but thats what they did so okay thats responsible intellectuals okay maybe a way to to see it is some intellectuals but not journalists because we only get to journalism in a minute who fail miserably who have the prestige who have the access who have all the characteristics that you describe as associated with being an intellectual but who dont meet their responsibilities violate it routinley thats i mean i know there are a lot you want to start from a well go on for the rest of the day but its virtually'"
      ],
      "metadata": {
        "id": "UbhWHIOaj2ye"
      },
      "execution_count": 77,
      "outputs": []
    },
    {
      "cell_type": "code",
      "source": [
        "import re"
      ],
      "metadata": {
        "id": "Kyee_a_FpsjB"
      },
      "execution_count": 79,
      "outputs": []
    },
    {
      "cell_type": "code",
      "source": [
        "allsubs_new = re.sub(r'[^\\w\\s]','',allsubs)\n",
        "huggin_variant_new = re.sub(r'[^\\w\\s]','',huggin_variant)\n",
        "google_variant_new = re.sub(r'[^\\w\\s]','',google_variant)\n",
        "whisper_variant_new = re.sub(r'[^\\w\\s]','',whisper_variant)\n",
        "allsubs=allsubs.lower()\n",
        "huggin_variant_new=huggin_variant_new.lower()\n",
        "google_variant_new=google_variant_new.lower()\n",
        "whisper_variant_new=whisper_variant_new.lower()"
      ],
      "metadata": {
        "id": "llVRm32Ep9H6"
      },
      "execution_count": 80,
      "outputs": []
    },
    {
      "cell_type": "markdown",
      "source": [
        "качество проверим werом"
      ],
      "metadata": {
        "id": "lMh0E3vFrG9r"
      }
    },
    {
      "cell_type": "code",
      "source": [
        "from jiwer import wer"
      ],
      "metadata": {
        "id": "RkxF1hj7qsFj"
      },
      "execution_count": 87,
      "outputs": []
    },
    {
      "cell_type": "code",
      "source": [
        "wer(etalon, whisper_variant_new)"
      ],
      "metadata": {
        "colab": {
          "base_uri": "https://localhost:8080/"
        },
        "id": "dTn4vNXPrI9Z",
        "outputId": "ea3fa349-bf8e-4c16-af8c-b396b22f1300"
      },
      "execution_count": 88,
      "outputs": [
        {
          "output_type": "execute_result",
          "data": {
            "text/plain": [
              "0.11450381679389313"
            ]
          },
          "metadata": {},
          "execution_count": 88
        }
      ]
    },
    {
      "cell_type": "code",
      "source": [
        "wer(etalon, google_variant_new)"
      ],
      "metadata": {
        "colab": {
          "base_uri": "https://localhost:8080/"
        },
        "id": "6ldh3554rQTu",
        "outputId": "8478115e-3304-4fe7-812f-22ec83fd2fa2"
      },
      "execution_count": 89,
      "outputs": [
        {
          "output_type": "execute_result",
          "data": {
            "text/plain": [
              "0.7595419847328244"
            ]
          },
          "metadata": {},
          "execution_count": 89
        }
      ]
    },
    {
      "cell_type": "code",
      "source": [
        "wer(etalon, huggin_variant_new)"
      ],
      "metadata": {
        "colab": {
          "base_uri": "https://localhost:8080/"
        },
        "id": "WcqS5p63rUR-",
        "outputId": "4c028437-79cc-4aca-877d-101ddb77f199"
      },
      "execution_count": 90,
      "outputs": [
        {
          "output_type": "execute_result",
          "data": {
            "text/plain": [
              "0.3320610687022901"
            ]
          },
          "metadata": {},
          "execution_count": 90
        }
      ]
    },
    {
      "cell_type": "code",
      "source": [
        "wer(etalon, allsubs)"
      ],
      "metadata": {
        "colab": {
          "base_uri": "https://localhost:8080/"
        },
        "id": "CCsLAZP8rdwO",
        "outputId": "bfb22c2f-f132-44fe-9155-2a6757572cde"
      },
      "execution_count": 91,
      "outputs": [
        {
          "output_type": "execute_result",
          "data": {
            "text/plain": [
              "0.10305343511450382"
            ]
          },
          "metadata": {},
          "execution_count": 91
        }
      ]
    },
    {
      "cell_type": "markdown",
      "source": [
        "лучший вариант у автоматических субтитров, чуть хуже у whisper. Плохой результат google объясняется тем, что он почему-то распознал только половину и на этом остановился. huggin просто справился хуже whisper..."
      ],
      "metadata": {
        "id": "GWmYXOprrgkZ"
      }
    }
  ]
}